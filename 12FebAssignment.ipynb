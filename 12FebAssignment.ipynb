{
 "cells": [
  {
   "cell_type": "code",
   "execution_count": null,
   "id": "4c829c3e-957a-46df-b558-86945828f4f3",
   "metadata": {},
   "outputs": [],
   "source": [
    "\"\"\"Q1. What is an Exception in python? Write the difference between Exceptions and Syntax errors\n",
    "Ans:\n",
    "\n",
    "An Exception is an error that happens during the execution of a program. Whenever there is an error, \n",
    "Python generates an exception that could be handled. It basically prevents the program from getting crashed.\n",
    "\n",
    "Difference:\n",
    "An exception is occurs during the execution of a program that disrupts the normal flow of the \n",
    "program's instructions whereas Syntax errors are mistakes in using the language. A syntax error\n",
    "occurs when a programmer writes an incorrect line of code.\"\"\"\n"
   ]
  },
  {
   "cell_type": "code",
   "execution_count": null,
   "id": "9504e3e3-7a07-4704-b610-512b3c784e9b",
   "metadata": {},
   "outputs": [],
   "source": [
    "\"\"\"Q2. What happens when an exception is not handled? Explain within example\n",
    "Ans:\n",
    "\n",
    "If an exception is is not handled, the runtime system will abort \n",
    "the program and an exception message will print to the console i.e, the program will crash.\n",
    "For e.g:\"\"\"\n",
    "\n",
    "f= open(\"test.txt\" , 'r')\n",
    "print(\"this is my print\")\n",
    "\n",
    "\"\"\" Here in the above case an exception is raised i.e, FileNotFoundError, due to this exception the whole program will\n",
    "crash and 2nd line of the prgram will not be executed, Hence handling an exception is a good way to execute a program.\"\"\""
   ]
  },
  {
   "cell_type": "code",
   "execution_count": 2,
   "id": "79444063-a8dd-403f-b713-e5870f6919a1",
   "metadata": {},
   "outputs": [
    {
     "name": "stdout",
     "output_type": "stream",
     "text": [
      "This is an Exception [Errno 2] No such file or directory: 'test.txt'\n"
     ]
    }
   ],
   "source": [
    "\"\"\"Q3. Which Pthon statements are used to catch and handle exceptions? Explain within example\n",
    "Ans:\n",
    "\n",
    "try and except block in Python are the statements that are used to catch and handle exceptions\"\"\"\n",
    "\n",
    "try :\n",
    "    f= open(\"test.txt\" , 'r')\n",
    "except Exception  as e : \n",
    "    print(\"This is an Exception\" , e)"
   ]
  },
  {
   "cell_type": "code",
   "execution_count": null,
   "id": "564f8f4f-42ab-43ef-ba63-8d4bcc6ab735",
   "metadata": {},
   "outputs": [],
   "source": [
    "\"\"\"Q4. Explain with an exmple:\n",
    "# try and else\n",
    "# finally\n",
    "# raise\"\"\"\n",
    "\n",
    "# try and else:\n",
    "\"\"\"try is used during exception handling, Python executes code following the try statement \n",
    "as a normal part of the program and if there is an error inside try block exception block will\n",
    "execute on the other hand else block will always exceute once try block will execute without any error\"\"\"\n",
    "\n",
    "# finally:\n",
    "\"\"\"finally block is used after try and except block which will always execute in any situation, whether\n",
    "try execute or not\"\"\"\n",
    "\n",
    "# raise:\n",
    "\"\"\"It is basically used in custom exception handling. The raise keyword is used to raise an exception. \n",
    "You can define what kind of error to raise, and the text to print to the user.\"\"\""
   ]
  },
  {
   "cell_type": "code",
   "execution_count": null,
   "id": "1a0a4972-b748-4e0c-a27e-b64adb43fd31",
   "metadata": {},
   "outputs": [],
   "source": [
    "\"\"\"Q5. What are Custom Exceptions in python? Why do we need Custom Exceptions? Explain with an example\n",
    "Ans:\n",
    "\n",
    "In Python, Custom Exceptions are user-defined exceptions that can be created for specific use cases. \n",
    "They can be used to handle errors and exceptions that are not built-in to the Python language.\n",
    "\n",
    "We need Custom Exceptions for several reasons:\n",
    "To handle specific exceptions, To improve code readability, To simplify debugging, To make code more maintainable, \n",
    "To enforce business rules\"\"\" \n",
    "\n",
    "class validateage(Exception):\n",
    "    pass\n",
    "\n",
    "age = int(input(\"Enter your age:\"))\n",
    "\n",
    "try:\n",
    "    if age<=30 & age >20:\n",
    "        print(\"You are applicable\")\n",
    "    else:\n",
    "        raise validateage\n",
    "except validateage:\n",
    "    print(\"You are not applicable at all.\")"
   ]
  },
  {
   "cell_type": "code",
   "execution_count": null,
   "id": "7af08bb2-e551-498d-b22a-d7bd1600f8a7",
   "metadata": {},
   "outputs": [],
   "source": [
    "\"\"\"Q6. Create a custom exception class. Use this class to handle an exception.\"\"\"\n",
    "\n",
    "class Error(Exception):\n",
    "    pass\n",
    "class dobException(Error):\n",
    "    pass\n",
    "\n",
    "age = int(input(\"Enter your age:\"))\n",
    "\n",
    "try:\n",
    "    if age<=30 & age >20:\n",
    "        print(\"You are applicable\")\n",
    "    else:\n",
    "        raise dobException\n",
    "except dobException:\n",
    "    print(\"You are not applicable at all.\")"
   ]
  },
  {
   "cell_type": "code",
   "execution_count": null,
   "id": "728e5f83-901b-4dd1-beb9-fe85a28313d9",
   "metadata": {},
   "outputs": [],
   "source": []
  }
 ],
 "metadata": {
  "kernelspec": {
   "display_name": "Python 3 (ipykernel)",
   "language": "python",
   "name": "python3"
  },
  "language_info": {
   "codemirror_mode": {
    "name": "ipython",
    "version": 3
   },
   "file_extension": ".py",
   "mimetype": "text/x-python",
   "name": "python",
   "nbconvert_exporter": "python",
   "pygments_lexer": "ipython3",
   "version": "3.10.8"
  }
 },
 "nbformat": 4,
 "nbformat_minor": 5
}
